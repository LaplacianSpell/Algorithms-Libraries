{
 "cells": [
  {
   "attachments": {},
   "cell_type": "markdown",
   "metadata": {},
   "source": [
    "# Crawler code"
   ]
  },
  {
   "cell_type": "code",
   "execution_count": 2,
   "metadata": {},
   "outputs": [
    {
     "name": "stdout",
     "output_type": "stream",
     "text": [
      "<class 'requests.models.Response'>\n"
     ]
    }
   ],
   "source": [
    "import requests\n",
    "\n",
    "# get(<str>): enter domain, get a <Response> class object\n",
    "res = requests.get('http://www.bilibili.com') \n",
    "\n",
    "# header enhance needed for some websites\n",
    "header = {\"User-Agent\": \"Mozilla/5.0 (Windows NT 10.0; Win64; x64) AppleWebKit/537.36 (KHTML, like Gecko) Chrome/76.0.3809.100 Safari/537.36\", \n",
    "         \"Cookie\": \"your cookie\"}\n",
    "res = requests.get('http://www.xxx.com', headers=header) \n",
    "print(type(res)) "
   ]
  },
  {
   "cell_type": "code",
   "execution_count": 3,
   "metadata": {},
   "outputs": [
    {
     "name": "stdout",
     "output_type": "stream",
     "text": [
      "<!DOCTYPE html><html lang=\"zh-CN\"><head><meta charset=\"utf-8\"><title>哔哩哔哩 (゜-゜)つロ 干杯~-bilibili</title><meta name=\"description\" content=\"bilibili是国内知名的视频弹幕网站，这里有及时的动漫新番，活跃的ACG氛围，有创意的Up主。大家可以在这里找到许多欢乐。\"><meta name=\"keywords\" content=\"Bilibili,哔哩哔哩,哔哩哔哩动画,哔哩哔哩弹幕网,弹幕视频,B站,弹幕,字幕,AMV,MAD,MTV,ANIME,动漫,动漫音乐,游戏,游戏解说,二次元,游戏视频,ACG,galgame,动画,番组,新番,初音,洛天依,vocaloid,日本动漫,国产动漫,手机游戏,网络游戏,电子竞技,ACG燃曲,ACG神曲,追新番,新番动漫,新番吐槽,巡音,镜音双子,千本樱,初音MIKU,舞蹈MMD,MIKUMIKUDANCE,洛天依原创曲,洛天依翻唱曲,洛天依投食歌,洛天依MMD,vocaloid家族,OST,BGM,动漫歌曲,日本动漫音乐,宫崎骏动漫音乐,动漫音乐推荐,燃系mad,治愈系mad,MAD MOVIE,MAD高燃\"><meta name=\"renderer\" content=\"webkit\"><meta http-equiv=\"X-UA-Compatible\" content=\"IE=edge\"><meta name=\"spm_prefix\" content=\"333.851\"><meta name=\"referrer\" content=\"no-referrer-when-downgrade\"><meta name=\"baidu-site-verification\" content=\"code-qkzzf7NQkQ\"><meta name=\"applicable-device\" content=\"pc\"><meta http-equiv=\"Cache-Control\" content=\"no-transform\"><meta http-equiv=\"Cache-Control\" content=\"no-siteapp\"><link rel=\"canonical\" href=\"https://www.bilibili.com/\"><link rel=\"alternate\" media=\"only screen and(max-width: 640px)\" href=\"https://m.bilibili.com\"><link rel=\"dns-prefetch\" href=\"//s1.hdslb.com\"><link rel=\"apple-touch-icon\" href=\"//static.hdslb.com/mobile/img/512.png\"><link rel=\"shortcut icon\" href=\"/favicon.ico?v=1\"><script type=\"text/javascript\">function getIEVersion(){var e=99;if(\"Microsoft Internet Explorer\"==navigator.appName){var t=navigator.userAgent;null!=new RegExp(\"MSIE ([0-9]{1,}[.0-9]{0,})\").exec(t)&&(e=parseFloat(RegExp.$1))}return e}function isMSIE(){var e=navigator.userAgent.toLowerCase();return(/msie/.test(e)||/trident/.test(e))&&!/opera/.test(e)}(getIEVersion()<11||isMSIE())&&(window.location.href=\"https://www.bilibili.com/blackboard/fe/activity-CjJbuaD7Xw.html\")</script><script type=\"text/javascript\">!function(){var i=window.navigator.userAgent,n=[\"Android\",\"iPhone\",\"SymbianOS\",\"Windows Phone\",\"iPod\"],o=!0;if(!/\\sVR\\s/g.test(i)){for(var e=0,r=n.length;e<r;e++)if(0<i.indexOf(n[e])){o=!1;break}if(!o){var a=window.location.href.replace(\"www\",\"m\");window.location.href=a}}}()</script><script type=\"text/javascript\">function getCookie(e){var o=new RegExp(\"(^| )\"+e+\"=([^;]*)(;|$)\"),n=document.cookie.match(o);return n?unescape(n[2]):null}function reportfs(){window.performance&&window.performance.timing&&(window.performance.timing.firstscreenfinish=(new Date).getTime())}window.spmReportData={},window.reportConfig={sample:1,scrollTracker:!0,msgObjects:\"spmReportData\",errorTracker:!0},window.abtest||(window.abtest={}),window.abtest.b_ut=getCookie(\"b_ut\"),window.abtest.i_wanna_go_back=getCookie(\"i-wanna-go-back\"),window.page_load_time=Date.now()</script><link rel=\"prefetch\" as=\"script\" href=\"//s1.hdslb.com/bfs/static/player/main/video.js?v=202332\"><script type=\"text/javascript\" src=\"//s1.hdslb.com/bfs/seed/jinkela/short/config/biliconfig.js\"></script><script type=\"text/javascript\" src=\"//www.bilibili.com/gentleman/polyfill.js?features=Promise%2CObject.assign%2CString.prototype.includes%2CNumber.isNaN\"></script><script type=\"text/javascript\" src=\"//s1.hdslb.com/bfs/static/jinkela/long/js/sentry/sentry-5.7.1.min.js\"></script><script type=\"text/javascript\" src=\"//s1.hdslb.com/bfs/static/jinkela/long/js/sentry/sentry-5.7.1.vue.min.js\"></script><script type=\"text/javascript\" src=\"//s1.hdslb.com/bfs/seed/log/report/log-reporter.js\" crossorigin></script><link href=\"//s1.hdslb.com/bfs/static/jinkela/international-home/css/international-home.1.e8d8af1cc3acaf5a01a3c949cb04f8c718845bbd.css\" rel=\"stylesheet\"><link href=\"//s1.hdslb.com/bfs/static/jinkela/international-home/css/international-home.0.e8d8af1cc3acaf5a01a3c949cb04f8c718845bbd.css\" rel=\"stylesheet\"></head><body><div id=\"international-home-app\"></div><div id=\"biliMainFooter\"></div><script type=\"text/javascript\" src=\"//s1.hdslb.com/bfs/cm/cm-sdk/static/js/pc.js\"></script><div style=\"display:none\"><a href=\"https://www.bilibili.com/v/game/match/\">赛事库</a> <a href=\"https://www.bilibili.com/cheese/\">课堂</a> <a href=\"https://www.bilibili.com/festival/2021bnj\">2021拜年纪</a></div><script type=\"text/javascript\" src=\"//s1.hdslb.com/bfs/static/jinkela/international-home/1.international-home.e8d8af1cc3acaf5a01a3c949cb04f8c718845bbd.js\"></script><script type=\"text/javascript\" src=\"//s1.hdslb.com/bfs/static/jinkela/international-home/international-home.e8d8af1cc3acaf5a01a3c949cb04f8c718845bbd.js\"></script></body></html>\n"
     ]
    }
   ],
   "source": [
    "# return the data in <str> format\n",
    "print(res.text)\n",
    "# return the data in <binary> format .content"
   ]
  },
  {
   "cell_type": "code",
   "execution_count": null,
   "metadata": {},
   "outputs": [],
   "source": [
    "# post a data form\n",
    "# data = <dict form>\n",
    "r = requests.post('https://www.bilibli.com', data={})"
   ]
  },
  {
   "cell_type": "code",
   "execution_count": 5,
   "metadata": {},
   "outputs": [
    {
     "name": "stdout",
     "output_type": "stream",
     "text": [
      "<!DOCTYPE html>\n",
      "<html lang=\"zh-CN\">\n",
      " <head>\n",
      "  <meta charset=\"utf-8\"/>\n",
      "  <title>\n",
      "   哔哩哔哩 (゜-゜)つロ 干杯~-bilibili\n",
      "  </title>\n",
      "  <meta content=\"bilibili是国内知名的视频弹幕网站，这里有及时的动漫新番，活跃的ACG氛围，有创意的Up主。大家可以在这里找到许多欢乐。\" name=\"description\"/>\n",
      "  <meta content=\"Bilibili,哔哩哔哩,哔哩哔哩动画,哔哩哔哩弹幕网,弹幕视频,B站,弹幕,字幕,AMV,MAD,MTV,ANIME,动漫,动漫音乐,游戏,游戏解说,二次元,游戏视频,ACG,galgame,动画,番组,新番,初音,洛天依,vocaloid,日本动漫,国产动漫,手机游戏,网络游戏,电子竞技,ACG燃曲,ACG神曲,追新番,新番动漫,新番吐槽,巡音,镜音双子,千本樱,初音MIKU,舞蹈MMD,MIKUMIKUDANCE,洛天依原创曲,洛天依翻唱曲,洛天依投食歌,洛天依MMD,vocaloid家族,OST,BGM,动漫歌曲,日本动漫音乐,宫崎骏动漫音乐,动漫音乐推荐,燃系mad,治愈系mad,MAD MOVIE,MAD高燃\" name=\"keywords\"/>\n",
      "  <meta content=\"webkit\" name=\"renderer\"/>\n",
      "  <meta content=\"IE=edge\" http-equiv=\"X-UA-Compatible\"/>\n",
      "  <meta content=\"333.851\" name=\"spm_prefix\"/>\n",
      "  <meta content=\"no-referrer-when-downgrade\" name=\"referrer\"/>\n",
      "  <meta content=\"code-qkzzf7NQkQ\" name=\"baidu-site-verification\"/>\n",
      "  <meta content=\"pc\" name=\"applicable-device\"/>\n",
      "  <meta content=\"no-transform\" http-equiv=\"Cache-Control\"/>\n",
      "  <meta content=\"no-siteapp\" http-equiv=\"Cache-Control\"/>\n",
      "  <link href=\"https://www.bilibili.com/\" rel=\"canonical\"/>\n",
      "  <link href=\"https://m.bilibili.com\" media=\"only screen and(max-width: 640px)\" rel=\"alternate\"/>\n",
      "  <link href=\"//s1.hdslb.com\" rel=\"dns-prefetch\"/>\n",
      "  <link href=\"//static.hdslb.com/mobile/img/512.png\" rel=\"apple-touch-icon\"/>\n",
      "  <link href=\"/favicon.ico?v=1\" rel=\"shortcut icon\"/>\n",
      "  <script type=\"text/javascript\">\n",
      "   function getIEVersion(){var e=99;if(\"Microsoft Internet Explorer\"==navigator.appName){var t=navigator.userAgent;null!=new RegExp(\"MSIE ([0-9]{1,}[.0-9]{0,})\").exec(t)&&(e=parseFloat(RegExp.$1))}return e}function isMSIE(){var e=navigator.userAgent.toLowerCase();return(/msie/.test(e)||/trident/.test(e))&&!/opera/.test(e)}(getIEVersion()<11||isMSIE())&&(window.location.href=\"https://www.bilibili.com/blackboard/fe/activity-CjJbuaD7Xw.html\")\n",
      "  </script>\n",
      "  <script type=\"text/javascript\">\n",
      "   !function(){var i=window.navigator.userAgent,n=[\"Android\",\"iPhone\",\"SymbianOS\",\"Windows Phone\",\"iPod\"],o=!0;if(!/\\sVR\\s/g.test(i)){for(var e=0,r=n.length;e<r;e++)if(0<i.indexOf(n[e])){o=!1;break}if(!o){var a=window.location.href.replace(\"www\",\"m\");window.location.href=a}}}()\n",
      "  </script>\n",
      "  <script type=\"text/javascript\">\n",
      "   function getCookie(e){var o=new RegExp(\"(^| )\"+e+\"=([^;]*)(;|$)\"),n=document.cookie.match(o);return n?unescape(n[2]):null}function reportfs(){window.performance&&window.performance.timing&&(window.performance.timing.firstscreenfinish=(new Date).getTime())}window.spmReportData={},window.reportConfig={sample:1,scrollTracker:!0,msgObjects:\"spmReportData\",errorTracker:!0},window.abtest||(window.abtest={}),window.abtest.b_ut=getCookie(\"b_ut\"),window.abtest.i_wanna_go_back=getCookie(\"i-wanna-go-back\"),window.page_load_time=Date.now()\n",
      "  </script>\n",
      "  <link as=\"script\" href=\"//s1.hdslb.com/bfs/static/player/main/video.js?v=202332\" rel=\"prefetch\"/>\n",
      "  <script src=\"//s1.hdslb.com/bfs/seed/jinkela/short/config/biliconfig.js\" type=\"text/javascript\">\n",
      "  </script>\n",
      "  <script src=\"//www.bilibili.com/gentleman/polyfill.js?features=Promise%2CObject.assign%2CString.prototype.includes%2CNumber.isNaN\" type=\"text/javascript\">\n",
      "  </script>\n",
      "  <script src=\"//s1.hdslb.com/bfs/static/jinkela/long/js/sentry/sentry-5.7.1.min.js\" type=\"text/javascript\">\n",
      "  </script>\n",
      "  <script src=\"//s1.hdslb.com/bfs/static/jinkela/long/js/sentry/sentry-5.7.1.vue.min.js\" type=\"text/javascript\">\n",
      "  </script>\n",
      "  <script crossorigin=\"\" src=\"//s1.hdslb.com/bfs/seed/log/report/log-reporter.js\" type=\"text/javascript\">\n",
      "  </script>\n",
      "  <link href=\"//s1.hdslb.com/bfs/static/jinkela/international-home/css/international-home.1.e8d8af1cc3acaf5a01a3c949cb04f8c718845bbd.css\" rel=\"stylesheet\"/>\n",
      "  <link href=\"//s1.hdslb.com/bfs/static/jinkela/international-home/css/international-home.0.e8d8af1cc3acaf5a01a3c949cb04f8c718845bbd.css\" rel=\"stylesheet\"/>\n",
      " </head>\n",
      " <body>\n",
      "  <div id=\"international-home-app\">\n",
      "  </div>\n",
      "  <div id=\"biliMainFooter\">\n",
      "  </div>\n",
      "  <script src=\"//s1.hdslb.com/bfs/cm/cm-sdk/static/js/pc.js\" type=\"text/javascript\">\n",
      "  </script>\n",
      "  <div style=\"display:none\">\n",
      "   <a href=\"https://www.bilibili.com/v/game/match/\">\n",
      "    赛事库\n",
      "   </a>\n",
      "   <a href=\"https://www.bilibili.com/cheese/\">\n",
      "    课堂\n",
      "   </a>\n",
      "   <a href=\"https://www.bilibili.com/festival/2021bnj\">\n",
      "    2021拜年纪\n",
      "   </a>\n",
      "  </div>\n",
      "  <script src=\"//s1.hdslb.com/bfs/static/jinkela/international-home/1.international-home.e8d8af1cc3acaf5a01a3c949cb04f8c718845bbd.js\" type=\"text/javascript\">\n",
      "  </script>\n",
      "  <script src=\"//s1.hdslb.com/bfs/static/jinkela/international-home/international-home.e8d8af1cc3acaf5a01a3c949cb04f8c718845bbd.js\" type=\"text/javascript\">\n",
      "  </script>\n",
      " </body>\n",
      "</html>\n"
     ]
    }
   ],
   "source": [
    "from bs4 import BeautifulSoup\n",
    "\n",
    "# Param are str or handler of file. \n",
    "soup = BeautifulSoup(res.text, 'html.parser')  # Intepreter Specify Needed <html or lxml> \n",
    "print(soup.prettify())  # print with standard output"
   ]
  }
 ],
 "metadata": {
  "kernelspec": {
   "display_name": "myenv",
   "language": "python",
   "name": "python3"
  },
  "language_info": {
   "codemirror_mode": {
    "name": "ipython",
    "version": 3
   },
   "file_extension": ".py",
   "mimetype": "text/x-python",
   "name": "python",
   "nbconvert_exporter": "python",
   "pygments_lexer": "ipython3",
   "version": "3.9.2"
  },
  "orig_nbformat": 4,
  "vscode": {
   "interpreter": {
    "hash": "3168a7982d5b4a4dde284432ab8e0ebfad059f16a241a8535d4a27710a7829fa"
   }
  }
 },
 "nbformat": 4,
 "nbformat_minor": 2
}
